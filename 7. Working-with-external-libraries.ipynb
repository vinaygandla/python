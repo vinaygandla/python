{
 "cells": [
  {
   "cell_type": "markdown",
   "metadata": {
    "papermill": {
     "duration": 0.032112,
     "end_time": "2021-06-04T13:07:05.975107",
     "exception": false,
     "start_time": "2021-06-04T13:07:05.942995",
     "status": "completed"
    },
    "tags": []
   },
   "source": [
    "In this tutorial, you will learn about **imports** in Python, get some tips for working with unfamiliar libraries (and the objects they return), and dig into **operator overloading**."
   ]
  },
  {
   "cell_type": "markdown",
   "metadata": {
    "papermill": {
     "duration": 0.031397,
     "end_time": "2021-06-04T13:07:06.039195",
     "exception": false,
     "start_time": "2021-06-04T13:07:06.007798",
     "status": "completed"
    },
    "tags": []
   },
   "source": [
    "# Imports\n",
    "\n",
    "So far we've talked about types and functions which are built-in to the language. \n",
    "\n",
    "But one of the best things about Python (especially if you're a data scientist) is the vast number of high-quality custom libraries that have been written for it. \n",
    "\n",
    "Some of these libraries are in the \"standard library\", meaning you can find them anywhere you run Python. Others libraries can be easily added, even if they aren't always shipped with Python.\n",
    "\n",
    "Either way, we'll access this code with **imports**.\n",
    "\n",
    "We'll start our example by importing `math` from the standard library."
   ]
  },
  {
   "cell_type": "code",
   "execution_count": null,
   "metadata": {
    "execution": {
     "iopub.execute_input": "2021-06-04T13:07:06.109256Z",
     "iopub.status.busy": "2021-06-04T13:07:06.107433Z",
     "iopub.status.idle": "2021-06-04T13:07:06.114013Z",
     "shell.execute_reply": "2021-06-04T13:07:06.113363Z"
    },
    "papermill": {
     "duration": 0.043483,
     "end_time": "2021-06-04T13:07:06.114168",
     "exception": false,
     "start_time": "2021-06-04T13:07:06.070685",
     "status": "completed"
    },
    "tags": []
   },
   "outputs": [],
   "source": [
    "import math\n",
    "\n",
    "print(\"It's math! It has type {}\".format(type(math)))"
   ]
  },
  {
   "cell_type": "markdown",
   "metadata": {
    "papermill": {
     "duration": 0.031461,
     "end_time": "2021-06-04T13:07:06.177811",
     "exception": false,
     "start_time": "2021-06-04T13:07:06.146350",
     "status": "completed"
    },
    "tags": []
   },
   "source": [
    "`math` is a module. A module is just a collection of variables (a *namespace*, if you like) defined by someone else. We can see all the names in `math` using the built-in function `dir()`."
   ]
  },
  {
   "cell_type": "code",
   "execution_count": null,
   "metadata": {
    "execution": {
     "iopub.execute_input": "2021-06-04T13:07:06.247143Z",
     "iopub.status.busy": "2021-06-04T13:07:06.246292Z",
     "iopub.status.idle": "2021-06-04T13:07:06.249501Z",
     "shell.execute_reply": "2021-06-04T13:07:06.250041Z"
    },
    "papermill": {
     "duration": 0.040556,
     "end_time": "2021-06-04T13:07:06.250213",
     "exception": false,
     "start_time": "2021-06-04T13:07:06.209657",
     "status": "completed"
    },
    "tags": []
   },
   "outputs": [],
   "source": [
    "print(dir(math))"
   ]
  },
  {
   "cell_type": "markdown",
   "metadata": {
    "papermill": {
     "duration": 0.031528,
     "end_time": "2021-06-04T13:07:06.313629",
     "exception": false,
     "start_time": "2021-06-04T13:07:06.282101",
     "status": "completed"
    },
    "tags": []
   },
   "source": [
    "We can access these variables using dot syntax. Some of them refer to simple values, like `math.pi`:"
   ]
  },
  {
   "cell_type": "code",
   "execution_count": null,
   "metadata": {
    "execution": {
     "iopub.execute_input": "2021-06-04T13:07:06.383206Z",
     "iopub.status.busy": "2021-06-04T13:07:06.382337Z",
     "iopub.status.idle": "2021-06-04T13:07:06.386015Z",
     "shell.execute_reply": "2021-06-04T13:07:06.385393Z"
    },
    "papermill": {
     "duration": 0.040407,
     "end_time": "2021-06-04T13:07:06.386157",
     "exception": false,
     "start_time": "2021-06-04T13:07:06.345750",
     "status": "completed"
    },
    "tags": []
   },
   "outputs": [],
   "source": [
    "print(\"pi to 4 significant digits = {:.4}\".format(math.pi))"
   ]
  },
  {
   "cell_type": "markdown",
   "metadata": {
    "papermill": {
     "duration": 0.032039,
     "end_time": "2021-06-04T13:07:06.450770",
     "exception": false,
     "start_time": "2021-06-04T13:07:06.418731",
     "status": "completed"
    },
    "tags": []
   },
   "source": [
    "But most of what we'll find in the module are functions, like `math.log`:"
   ]
  },
  {
   "cell_type": "code",
   "execution_count": null,
   "metadata": {
    "execution": {
     "iopub.execute_input": "2021-06-04T13:07:06.522809Z",
     "iopub.status.busy": "2021-06-04T13:07:06.522171Z",
     "iopub.status.idle": "2021-06-04T13:07:06.527297Z",
     "shell.execute_reply": "2021-06-04T13:07:06.526737Z"
    },
    "papermill": {
     "duration": 0.044167,
     "end_time": "2021-06-04T13:07:06.527449",
     "exception": false,
     "start_time": "2021-06-04T13:07:06.483282",
     "status": "completed"
    },
    "tags": []
   },
   "outputs": [],
   "source": [
    "math.log(32, 2)"
   ]
  },
  {
   "cell_type": "markdown",
   "metadata": {
    "papermill": {
     "duration": 0.033575,
     "end_time": "2021-06-04T13:07:06.594551",
     "exception": false,
     "start_time": "2021-06-04T13:07:06.560976",
     "status": "completed"
    },
    "tags": []
   },
   "source": [
    "Of course, if we don't know what `math.log` does, we can call `help()` on it:"
   ]
  },
  {
   "cell_type": "code",
   "execution_count": null,
   "metadata": {
    "execution": {
     "iopub.execute_input": "2021-06-04T13:07:06.665996Z",
     "iopub.status.busy": "2021-06-04T13:07:06.665086Z",
     "iopub.status.idle": "2021-06-04T13:07:06.668950Z",
     "shell.execute_reply": "2021-06-04T13:07:06.668331Z"
    },
    "papermill": {
     "duration": 0.041604,
     "end_time": "2021-06-04T13:07:06.669099",
     "exception": false,
     "start_time": "2021-06-04T13:07:06.627495",
     "status": "completed"
    },
    "tags": []
   },
   "outputs": [],
   "source": [
    "help(math.log)"
   ]
  },
  {
   "cell_type": "markdown",
   "metadata": {
    "papermill": {
     "duration": 0.033049,
     "end_time": "2021-06-04T13:07:06.735386",
     "exception": false,
     "start_time": "2021-06-04T13:07:06.702337",
     "status": "completed"
    },
    "tags": []
   },
   "source": [
    "We can also call `help()` on the module itself. This will give us the combined documentation for *all* the functions and values in the module (as well as a high-level description of the module). Click the \"output\" button to see the whole `math` help page."
   ]
  },
  {
   "cell_type": "code",
   "execution_count": null,
   "metadata": {
    "_kg_hide-output": true,
    "execution": {
     "iopub.execute_input": "2021-06-04T13:07:06.823125Z",
     "iopub.status.busy": "2021-06-04T13:07:06.822445Z",
     "iopub.status.idle": "2021-06-04T13:07:06.827535Z",
     "shell.execute_reply": "2021-06-04T13:07:06.826885Z"
    },
    "papermill": {
     "duration": 0.059003,
     "end_time": "2021-06-04T13:07:06.827673",
     "exception": false,
     "start_time": "2021-06-04T13:07:06.768670",
     "status": "completed"
    },
    "tags": []
   },
   "outputs": [],
   "source": [
    "help(math)"
   ]
  },
  {
   "cell_type": "markdown",
   "metadata": {
    "papermill": {
     "duration": 0.03429,
     "end_time": "2021-06-04T13:07:06.895982",
     "exception": false,
     "start_time": "2021-06-04T13:07:06.861692",
     "status": "completed"
    },
    "tags": []
   },
   "source": [
    "### Other import syntax\n",
    "\n",
    "If we know we'll be using functions in `math` frequently we can import it under a shorter alias to save some typing (though in this case \"math\" is already pretty short)."
   ]
  },
  {
   "cell_type": "code",
   "execution_count": null,
   "metadata": {
    "execution": {
     "iopub.execute_input": "2021-06-04T13:07:06.969131Z",
     "iopub.status.busy": "2021-06-04T13:07:06.968403Z",
     "iopub.status.idle": "2021-06-04T13:07:06.972406Z",
     "shell.execute_reply": "2021-06-04T13:07:06.971705Z"
    },
    "papermill": {
     "duration": 0.042144,
     "end_time": "2021-06-04T13:07:06.972546",
     "exception": false,
     "start_time": "2021-06-04T13:07:06.930402",
     "status": "completed"
    },
    "tags": []
   },
   "outputs": [],
   "source": [
    "import math as mt\n",
    "mt.pi"
   ]
  },
  {
   "cell_type": "markdown",
   "metadata": {
    "papermill": {
     "duration": 0.03434,
     "end_time": "2021-06-04T13:07:07.041509",
     "exception": false,
     "start_time": "2021-06-04T13:07:07.007169",
     "status": "completed"
    },
    "tags": []
   },
   "source": [
    "> You may have seen code that does this with certain popular libraries like Pandas, Numpy, Tensorflow, or Matplotlib. For example, it's a common convention to `import numpy as np` and `import pandas as pd`."
   ]
  },
  {
   "cell_type": "markdown",
   "metadata": {
    "papermill": {
     "duration": 0.034222,
     "end_time": "2021-06-04T13:07:07.111654",
     "exception": false,
     "start_time": "2021-06-04T13:07:07.077432",
     "status": "completed"
    },
    "tags": []
   },
   "source": [
    "The `as` simply renames the imported module. It's equivalent to doing something like:"
   ]
  },
  {
   "cell_type": "code",
   "execution_count": null,
   "metadata": {
    "execution": {
     "iopub.execute_input": "2021-06-04T13:07:07.184233Z",
     "iopub.status.busy": "2021-06-04T13:07:07.183581Z",
     "iopub.status.idle": "2021-06-04T13:07:07.187911Z",
     "shell.execute_reply": "2021-06-04T13:07:07.187409Z"
    },
    "papermill": {
     "duration": 0.041095,
     "end_time": "2021-06-04T13:07:07.188049",
     "exception": false,
     "start_time": "2021-06-04T13:07:07.146954",
     "status": "completed"
    },
    "tags": []
   },
   "outputs": [],
   "source": [
    "import math\n",
    "mt = math"
   ]
  },
  {
   "cell_type": "markdown",
   "metadata": {
    "papermill": {
     "duration": 0.034006,
     "end_time": "2021-06-04T13:07:07.256275",
     "exception": false,
     "start_time": "2021-06-04T13:07:07.222269",
     "status": "completed"
    },
    "tags": []
   },
   "source": [
    "Wouldn't it be great if we could refer to all the variables in the `math` module by themselves? i.e. if we could just refer to `pi` instead of `math.pi` or `mt.pi`? Good news: we can do that."
   ]
  },
  {
   "cell_type": "code",
   "execution_count": null,
   "metadata": {
    "execution": {
     "iopub.execute_input": "2021-06-04T13:07:07.328300Z",
     "iopub.status.busy": "2021-06-04T13:07:07.327604Z",
     "iopub.status.idle": "2021-06-04T13:07:07.332188Z",
     "shell.execute_reply": "2021-06-04T13:07:07.332773Z"
    },
    "papermill": {
     "duration": 0.042198,
     "end_time": "2021-06-04T13:07:07.332963",
     "exception": false,
     "start_time": "2021-06-04T13:07:07.290765",
     "status": "completed"
    },
    "tags": []
   },
   "outputs": [],
   "source": [
    "from math import *\n",
    "print(pi, log(32, 2))"
   ]
  },
  {
   "cell_type": "markdown",
   "metadata": {
    "papermill": {
     "duration": 0.034598,
     "end_time": "2021-06-04T13:07:07.402564",
     "exception": false,
     "start_time": "2021-06-04T13:07:07.367966",
     "status": "completed"
    },
    "tags": []
   },
   "source": [
    "`import *` makes all the module's variables directly accessible to you (without any dotted prefix).\n",
    "\n",
    "Bad news: some purists might grumble at you for doing this.\n",
    "\n",
    "Worse: they kind of have a point."
   ]
  },
  {
   "cell_type": "code",
   "execution_count": null,
   "metadata": {
    "execution": {
     "iopub.execute_input": "2021-06-04T13:07:07.475946Z",
     "iopub.status.busy": "2021-06-04T13:07:07.475319Z",
     "iopub.status.idle": "2021-06-04T13:07:07.525194Z",
     "shell.execute_reply": "2021-06-04T13:07:07.524476Z"
    },
    "papermill": {
     "duration": 0.087772,
     "end_time": "2021-06-04T13:07:07.525399",
     "exception": false,
     "start_time": "2021-06-04T13:07:07.437627",
     "status": "completed"
    },
    "tags": [
     "raises-exception"
    ]
   },
   "outputs": [],
   "source": [
    "from math import *\n",
    "from numpy import *\n",
    "print(pi, log(32, 2))"
   ]
  },
  {
   "cell_type": "markdown",
   "metadata": {
    "papermill": {
     "duration": 0.03566,
     "end_time": "2021-06-04T13:07:07.596961",
     "exception": false,
     "start_time": "2021-06-04T13:07:07.561301",
     "status": "completed"
    },
    "tags": []
   },
   "source": [
    "What has happened? It worked before!\n",
    "\n",
    "These kinds of \"star imports\" can occasionally lead to weird, difficult-to-debug situations.\n",
    "\n",
    "The problem in this case is that the `math` and `numpy` modules both have functions called `log`, but they have different semantics. Because we import from `numpy` second, its `log` overwrites (or \"shadows\") the `log` variable we imported from `math`.\n",
    "\n",
    "A good compromise is to import only the specific things we'll need from each module:"
   ]
  },
  {
   "cell_type": "code",
   "execution_count": null,
   "metadata": {
    "execution": {
     "iopub.execute_input": "2021-06-04T13:07:07.673570Z",
     "iopub.status.busy": "2021-06-04T13:07:07.672882Z",
     "iopub.status.idle": "2021-06-04T13:07:07.675691Z",
     "shell.execute_reply": "2021-06-04T13:07:07.675186Z"
    },
    "papermill": {
     "duration": 0.042808,
     "end_time": "2021-06-04T13:07:07.675842",
     "exception": false,
     "start_time": "2021-06-04T13:07:07.633034",
     "status": "completed"
    },
    "tags": []
   },
   "outputs": [],
   "source": [
    "from math import log, pi\n",
    "from numpy import asarray"
   ]
  },
  {
   "cell_type": "markdown",
   "metadata": {
    "papermill": {
     "duration": 0.035664,
     "end_time": "2021-06-04T13:07:07.747131",
     "exception": false,
     "start_time": "2021-06-04T13:07:07.711467",
     "status": "completed"
    },
    "tags": []
   },
   "source": [
    "### Submodules\n",
    "\n",
    "We've seen that modules contain variables which can refer to functions or values. Something to be aware of is that they can also have variables referring to *other modules*. "
   ]
  },
  {
   "cell_type": "code",
   "execution_count": null,
   "metadata": {
    "execution": {
     "iopub.execute_input": "2021-06-04T13:07:07.828778Z",
     "iopub.status.busy": "2021-06-04T13:07:07.827934Z",
     "iopub.status.idle": "2021-06-04T13:07:07.831168Z",
     "shell.execute_reply": "2021-06-04T13:07:07.831681Z"
    },
    "papermill": {
     "duration": 0.044966,
     "end_time": "2021-06-04T13:07:07.831871",
     "exception": false,
     "start_time": "2021-06-04T13:07:07.786905",
     "status": "completed"
    },
    "tags": []
   },
   "outputs": [],
   "source": [
    "import numpy\n",
    "print(\"numpy.random is a\", type(numpy.random))\n",
    "print(\"it contains names such as...\",\n",
    "      dir(numpy.random)[-15:]\n",
    "     )"
   ]
  },
  {
   "cell_type": "markdown",
   "metadata": {
    "papermill": {
     "duration": 0.036395,
     "end_time": "2021-06-04T13:07:07.904628",
     "exception": false,
     "start_time": "2021-06-04T13:07:07.868233",
     "status": "completed"
    },
    "tags": []
   },
   "source": [
    "So if we import `numpy` as above, then calling a function in the `random` \"submodule\" will require *two* dots."
   ]
  },
  {
   "cell_type": "code",
   "execution_count": null,
   "metadata": {
    "execution": {
     "iopub.execute_input": "2021-06-04T13:07:07.985613Z",
     "iopub.status.busy": "2021-06-04T13:07:07.984973Z",
     "iopub.status.idle": "2021-06-04T13:07:07.988783Z",
     "shell.execute_reply": "2021-06-04T13:07:07.989280Z"
    },
    "papermill": {
     "duration": 0.048291,
     "end_time": "2021-06-04T13:07:07.989455",
     "exception": false,
     "start_time": "2021-06-04T13:07:07.941164",
     "status": "completed"
    },
    "tags": []
   },
   "outputs": [],
   "source": [
    "# Roll 10 dice\n",
    "rolls = numpy.random.randint(low=1, high=6, size=10)\n",
    "rolls"
   ]
  },
  {
   "cell_type": "markdown",
   "metadata": {
    "papermill": {
     "duration": 0.036363,
     "end_time": "2021-06-04T13:07:08.063521",
     "exception": false,
     "start_time": "2021-06-04T13:07:08.027158",
     "status": "completed"
    },
    "tags": []
   },
   "source": [
    "## Oh the places you'll go, oh the objects you'll see\n",
    "\n",
    "So after 6 lessons, you're a pro with ints, floats, bools, lists, strings, and dicts (right?). \n",
    "\n",
    "Even if that were true, it doesn't end there. As you work with various libraries for specialized tasks, you'll find that they define their own types which you'll have to learn to work with. For example, if you work with the graphing library `matplotlib`, you'll be coming into contact with objects it defines which represent Subplots, Figures, TickMarks, and Annotations. `pandas` functions will give you DataFrames and Series. \n",
    "\n",
    "In this section, I want to share with you a quick survival guide for working with strange types.\n",
    "\n",
    "## Three tools for understanding strange objects\n",
    "\n",
    "In the cell above, we saw that calling a `numpy` function gave us an \"array\". We've never seen anything like this before (not in this course anyways). But don't panic: we have three familiar builtin functions to help us here.\n",
    "\n",
    "**1: `type()`** (what is this thing?)"
   ]
  },
  {
   "cell_type": "code",
   "execution_count": null,
   "metadata": {
    "execution": {
     "iopub.execute_input": "2021-06-04T13:07:08.141543Z",
     "iopub.status.busy": "2021-06-04T13:07:08.140571Z",
     "iopub.status.idle": "2021-06-04T13:07:08.145729Z",
     "shell.execute_reply": "2021-06-04T13:07:08.146209Z"
    },
    "papermill": {
     "duration": 0.045245,
     "end_time": "2021-06-04T13:07:08.146373",
     "exception": false,
     "start_time": "2021-06-04T13:07:08.101128",
     "status": "completed"
    },
    "tags": []
   },
   "outputs": [],
   "source": [
    "type(rolls)"
   ]
  },
  {
   "cell_type": "markdown",
   "metadata": {
    "papermill": {
     "duration": 0.036863,
     "end_time": "2021-06-04T13:07:08.220540",
     "exception": false,
     "start_time": "2021-06-04T13:07:08.183677",
     "status": "completed"
    },
    "tags": []
   },
   "source": [
    "**2: `dir()`** (what can I do with it?)"
   ]
  },
  {
   "cell_type": "code",
   "execution_count": null,
   "metadata": {
    "execution": {
     "iopub.execute_input": "2021-06-04T13:07:08.298478Z",
     "iopub.status.busy": "2021-06-04T13:07:08.297482Z",
     "iopub.status.idle": "2021-06-04T13:07:08.303464Z",
     "shell.execute_reply": "2021-06-04T13:07:08.302960Z"
    },
    "papermill": {
     "duration": 0.04608,
     "end_time": "2021-06-04T13:07:08.303603",
     "exception": false,
     "start_time": "2021-06-04T13:07:08.257523",
     "status": "completed"
    },
    "tags": []
   },
   "outputs": [],
   "source": [
    "print(dir(rolls))"
   ]
  },
  {
   "cell_type": "code",
   "execution_count": null,
   "metadata": {
    "execution": {
     "iopub.execute_input": "2021-06-04T13:07:08.384623Z",
     "iopub.status.busy": "2021-06-04T13:07:08.383880Z",
     "iopub.status.idle": "2021-06-04T13:07:08.387763Z",
     "shell.execute_reply": "2021-06-04T13:07:08.387272Z"
    },
    "papermill": {
     "duration": 0.046283,
     "end_time": "2021-06-04T13:07:08.387976",
     "exception": false,
     "start_time": "2021-06-04T13:07:08.341693",
     "status": "completed"
    },
    "tags": []
   },
   "outputs": [],
   "source": [
    "# If I want the average roll, the \"mean\" method looks promising...\n",
    "rolls.mean()"
   ]
  },
  {
   "cell_type": "code",
   "execution_count": null,
   "metadata": {
    "execution": {
     "iopub.execute_input": "2021-06-04T13:07:08.469807Z",
     "iopub.status.busy": "2021-06-04T13:07:08.469176Z",
     "iopub.status.idle": "2021-06-04T13:07:08.472193Z",
     "shell.execute_reply": "2021-06-04T13:07:08.472661Z"
    },
    "papermill": {
     "duration": 0.046461,
     "end_time": "2021-06-04T13:07:08.472850",
     "exception": false,
     "start_time": "2021-06-04T13:07:08.426389",
     "status": "completed"
    },
    "tags": []
   },
   "outputs": [],
   "source": [
    "# Or maybe I just want to turn the array into a list, in which case I can use \"tolist\"\n",
    "rolls.tolist()"
   ]
  },
  {
   "cell_type": "markdown",
   "metadata": {
    "papermill": {
     "duration": 0.038286,
     "end_time": "2021-06-04T13:07:08.549944",
     "exception": false,
     "start_time": "2021-06-04T13:07:08.511658",
     "status": "completed"
    },
    "tags": []
   },
   "source": [
    "**3: `help()`** (tell me more)"
   ]
  },
  {
   "cell_type": "code",
   "execution_count": null,
   "metadata": {
    "execution": {
     "iopub.execute_input": "2021-06-04T13:07:08.630894Z",
     "iopub.status.busy": "2021-06-04T13:07:08.630183Z",
     "iopub.status.idle": "2021-06-04T13:07:08.634532Z",
     "shell.execute_reply": "2021-06-04T13:07:08.635031Z"
    },
    "papermill": {
     "duration": 0.046743,
     "end_time": "2021-06-04T13:07:08.635197",
     "exception": false,
     "start_time": "2021-06-04T13:07:08.588454",
     "status": "completed"
    },
    "tags": []
   },
   "outputs": [],
   "source": [
    "# That \"ravel\" attribute sounds interesting. I'm a big classical music fan.\n",
    "help(rolls.ravel)"
   ]
  },
  {
   "cell_type": "code",
   "execution_count": null,
   "metadata": {
    "_kg_hide-output": true,
    "execution": {
     "iopub.execute_input": "2021-06-04T13:07:08.716313Z",
     "iopub.status.busy": "2021-06-04T13:07:08.715654Z",
     "iopub.status.idle": "2021-06-04T13:07:08.761559Z",
     "shell.execute_reply": "2021-06-04T13:07:08.762266Z"
    },
    "papermill": {
     "duration": 0.088259,
     "end_time": "2021-06-04T13:07:08.762518",
     "exception": false,
     "start_time": "2021-06-04T13:07:08.674259",
     "status": "completed"
    },
    "tags": []
   },
   "outputs": [],
   "source": [
    "# Okay, just tell me everything there is to know about numpy.ndarray\n",
    "# (Click the \"output\" button to see the novel-length output)\n",
    "help(rolls)"
   ]
  },
  {
   "cell_type": "markdown",
   "metadata": {
    "papermill": {
     "duration": 0.042668,
     "end_time": "2021-06-04T13:07:08.849457",
     "exception": false,
     "start_time": "2021-06-04T13:07:08.806789",
     "status": "completed"
    },
    "tags": []
   },
   "source": [
    "(Of course, you might also prefer to check out [the online docs](https://docs.scipy.org/doc/numpy-1.14.0/reference/generated/numpy.ndarray.html).)"
   ]
  },
  {
   "cell_type": "markdown",
   "metadata": {
    "papermill": {
     "duration": 0.042208,
     "end_time": "2021-06-04T13:07:08.934544",
     "exception": false,
     "start_time": "2021-06-04T13:07:08.892336",
     "status": "completed"
    },
    "tags": []
   },
   "source": [
    "### Operator overloading\n",
    "\n",
    "What's the value of the below expression?"
   ]
  },
  {
   "cell_type": "code",
   "execution_count": null,
   "metadata": {
    "execution": {
     "iopub.execute_input": "2021-06-04T13:07:09.030579Z",
     "iopub.status.busy": "2021-06-04T13:07:09.029781Z",
     "iopub.status.idle": "2021-06-04T13:07:09.038260Z",
     "shell.execute_reply": "2021-06-04T13:07:09.038741Z"
    },
    "papermill": {
     "duration": 0.060648,
     "end_time": "2021-06-04T13:07:09.038965",
     "exception": false,
     "start_time": "2021-06-04T13:07:08.978317",
     "status": "completed"
    },
    "tags": [
     "raises-exception"
    ]
   },
   "outputs": [],
   "source": [
    "[3, 4, 1, 2, 2, 1] + 10"
   ]
  },
  {
   "cell_type": "markdown",
   "metadata": {
    "papermill": {
     "duration": 0.04351,
     "end_time": "2021-06-04T13:07:09.126484",
     "exception": false,
     "start_time": "2021-06-04T13:07:09.082974",
     "status": "completed"
    },
    "tags": []
   },
   "source": [
    "What a silly question. Of course it's an error. \n",
    "\n",
    "But what about..."
   ]
  },
  {
   "cell_type": "code",
   "execution_count": null,
   "metadata": {
    "execution": {
     "iopub.execute_input": "2021-06-04T13:07:09.215970Z",
     "iopub.status.busy": "2021-06-04T13:07:09.215279Z",
     "iopub.status.idle": "2021-06-04T13:07:09.219955Z",
     "shell.execute_reply": "2021-06-04T13:07:09.220411Z"
    },
    "papermill": {
     "duration": 0.050967,
     "end_time": "2021-06-04T13:07:09.220588",
     "exception": false,
     "start_time": "2021-06-04T13:07:09.169621",
     "status": "completed"
    },
    "tags": []
   },
   "outputs": [],
   "source": [
    "rolls + 10"
   ]
  },
  {
   "cell_type": "markdown",
   "metadata": {
    "papermill": {
     "duration": 0.043472,
     "end_time": "2021-06-04T13:07:09.308282",
     "exception": false,
     "start_time": "2021-06-04T13:07:09.264810",
     "status": "completed"
    },
    "tags": []
   },
   "source": [
    "We might think that Python strictly polices how pieces of its core syntax behave such as `+`, `<`, `in`, `==`, or square brackets for indexing and slicing. But in fact, it takes a very hands-off approach. When you define a new type, you can choose how addition works for it, or what it means for an object of that type to be equal to something else.\n",
    "\n",
    "The designers of lists decided that adding them to numbers wasn't allowed. The designers of `numpy` arrays went a different way (adding the number to each element of the array).\n",
    "\n",
    "Here are a few more examples of how `numpy` arrays interact unexpectedly with Python operators (or at least differently from lists)."
   ]
  },
  {
   "cell_type": "code",
   "execution_count": null,
   "metadata": {
    "execution": {
     "iopub.execute_input": "2021-06-04T13:07:09.399184Z",
     "iopub.status.busy": "2021-06-04T13:07:09.398532Z",
     "iopub.status.idle": "2021-06-04T13:07:09.404735Z",
     "shell.execute_reply": "2021-06-04T13:07:09.404125Z"
    },
    "papermill": {
     "duration": 0.052828,
     "end_time": "2021-06-04T13:07:09.404903",
     "exception": false,
     "start_time": "2021-06-04T13:07:09.352075",
     "status": "completed"
    },
    "tags": []
   },
   "outputs": [],
   "source": [
    "# At which indices are the dice less than or equal to 3?\n",
    "rolls <= 3"
   ]
  },
  {
   "cell_type": "code",
   "execution_count": null,
   "metadata": {
    "execution": {
     "iopub.execute_input": "2021-06-04T13:07:09.499273Z",
     "iopub.status.busy": "2021-06-04T13:07:09.498478Z",
     "iopub.status.idle": "2021-06-04T13:07:09.501316Z",
     "shell.execute_reply": "2021-06-04T13:07:09.501789Z"
    },
    "papermill": {
     "duration": 0.052844,
     "end_time": "2021-06-04T13:07:09.501976",
     "exception": false,
     "start_time": "2021-06-04T13:07:09.449132",
     "status": "completed"
    },
    "tags": []
   },
   "outputs": [],
   "source": [
    "xlist = [[1,2,3],[2,4,6],]\n",
    "# Create a 2-dimensional array\n",
    "x = numpy.asarray(xlist)\n",
    "print(\"xlist = {}\\nx =\\n{}\".format(xlist, x))"
   ]
  },
  {
   "cell_type": "code",
   "execution_count": null,
   "metadata": {
    "execution": {
     "iopub.execute_input": "2021-06-04T13:07:09.596116Z",
     "iopub.status.busy": "2021-06-04T13:07:09.595151Z",
     "iopub.status.idle": "2021-06-04T13:07:09.599576Z",
     "shell.execute_reply": "2021-06-04T13:07:09.598978Z"
    },
    "papermill": {
     "duration": 0.053406,
     "end_time": "2021-06-04T13:07:09.599709",
     "exception": false,
     "start_time": "2021-06-04T13:07:09.546303",
     "status": "completed"
    },
    "tags": []
   },
   "outputs": [],
   "source": [
    "# Get the last element of the second row of our numpy array\n",
    "x[1,-1]"
   ]
  },
  {
   "cell_type": "code",
   "execution_count": null,
   "metadata": {
    "execution": {
     "iopub.execute_input": "2021-06-04T13:07:09.703838Z",
     "iopub.status.busy": "2021-06-04T13:07:09.702931Z",
     "iopub.status.idle": "2021-06-04T13:07:09.707640Z",
     "shell.execute_reply": "2021-06-04T13:07:09.707098Z"
    },
    "papermill": {
     "duration": 0.061711,
     "end_time": "2021-06-04T13:07:09.707780",
     "exception": false,
     "start_time": "2021-06-04T13:07:09.646069",
     "status": "completed"
    },
    "tags": [
     "raises-exception"
    ]
   },
   "outputs": [],
   "source": [
    "# Get the last element of the second sublist of our nested list?\n",
    "xlist[1,-1]"
   ]
  },
  {
   "cell_type": "markdown",
   "metadata": {
    "papermill": {
     "duration": 0.054621,
     "end_time": "2021-06-04T13:07:09.809706",
     "exception": false,
     "start_time": "2021-06-04T13:07:09.755085",
     "status": "completed"
    },
    "tags": []
   },
   "source": [
    "numpy's `ndarray` type is specialized for working with multi-dimensional data, so it defines its own logic for indexing, allowing us to index by a tuple to specify the index at each dimension.\n",
    "\n",
    "### When does 1 + 1 not equal 2?\n",
    "\n",
    "Things can get weirder than this. You may have heard of (or even used) tensorflow, a Python library popularly used for deep learning. It makes extensive use of operator overloading."
   ]
  },
  {
   "cell_type": "code",
   "execution_count": null,
   "metadata": {
    "execution": {
     "iopub.execute_input": "2021-06-04T13:07:09.921282Z",
     "iopub.status.busy": "2021-06-04T13:07:09.920597Z",
     "iopub.status.idle": "2021-06-04T13:07:15.735992Z",
     "shell.execute_reply": "2021-06-04T13:07:15.736491Z"
    },
    "papermill": {
     "duration": 5.867742,
     "end_time": "2021-06-04T13:07:15.736676",
     "exception": false,
     "start_time": "2021-06-04T13:07:09.868934",
     "status": "completed"
    },
    "tags": []
   },
   "outputs": [],
   "source": [
    "# Optional\n",
    "# pip install tensorflow on Anaconda Prompt\n",
    "import tensorflow as tf\n",
    "# Create two constants, each with value 1\n",
    "a = tf.constant(1)\n",
    "b = tf.constant(1)\n",
    "# Add them together to get...\n",
    "a + b"
   ]
  },
  {
   "cell_type": "markdown",
   "metadata": {
    "papermill": {
     "duration": 0.046142,
     "end_time": "2021-06-04T13:07:15.829496",
     "exception": false,
     "start_time": "2021-06-04T13:07:15.783354",
     "status": "completed"
    },
    "tags": []
   },
   "source": [
    "`a + b` isn't 2, it is (to quote tensorflow's documentation)...\n",
    "\n",
    "> a symbolic handle to one of the outputs of an `Operation`. It does not hold the values of that operation's output, but instead provides a means of computing those values in a TensorFlow `tf.Session`.\n",
    "\n"
   ]
  },
  {
   "cell_type": "markdown",
   "metadata": {
    "papermill": {
     "duration": 0.046186,
     "end_time": "2021-06-04T13:07:15.922335",
     "exception": false,
     "start_time": "2021-06-04T13:07:15.876149",
     "status": "completed"
    },
    "tags": []
   },
   "source": [
    "It's important just to be aware of the fact that this sort of thing is possible and that libraries will often use operator overloading in non-obvious or magical-seeming ways.\n",
    "\n",
    "Understanding how Python's operators work when applied to ints, strings, and lists is no guarantee that you'll be able to immediately understand what they do when applied to a tensorflow `Tensor`, or a numpy `ndarray`, or a pandas `DataFrame`.\n",
    "\n",
    "Once you've had a little taste of DataFrames, for example, an expression like the one below starts to look appealingly intuitive:\n",
    "\n",
    "```python\n",
    "# Get the rows with population over 1m in South America\n",
    "df[(df['population'] > 10**6) & (df['continent'] == 'South America')]\n",
    "```\n",
    "\n",
    "But why does it work? The example above features something like **5** different overloaded operators. What's each of those operations doing? It can help to know the answer when things start going wrong."
   ]
  },
  {
   "cell_type": "markdown",
   "metadata": {
    "papermill": {
     "duration": 0.046047,
     "end_time": "2021-06-04T13:07:16.014683",
     "exception": false,
     "start_time": "2021-06-04T13:07:15.968636",
     "status": "completed"
    },
    "tags": []
   },
   "source": [
    "#### Curious how it all works?\n",
    "\n",
    "Have you ever called `help()` or `dir()` on an object and wondered what the heck all those names with the double-underscores were?"
   ]
  },
  {
   "cell_type": "code",
   "execution_count": null,
   "metadata": {
    "execution": {
     "iopub.execute_input": "2021-06-04T13:07:16.113152Z",
     "iopub.status.busy": "2021-06-04T13:07:16.112488Z",
     "iopub.status.idle": "2021-06-04T13:07:16.115009Z",
     "shell.execute_reply": "2021-06-04T13:07:16.115486Z"
    },
    "papermill": {
     "duration": 0.054656,
     "end_time": "2021-06-04T13:07:16.115652",
     "exception": false,
     "start_time": "2021-06-04T13:07:16.060996",
     "status": "completed"
    },
    "tags": []
   },
   "outputs": [],
   "source": [
    "print(dir(list))"
   ]
  },
  {
   "cell_type": "markdown",
   "metadata": {
    "papermill": {
     "duration": 0.046086,
     "end_time": "2021-06-04T13:07:16.208543",
     "exception": false,
     "start_time": "2021-06-04T13:07:16.162457",
     "status": "completed"
    },
    "tags": []
   },
   "source": [
    "This turns out to be directly related to operator overloading.\n",
    "\n",
    "When Python programmers want to define how operators behave on their types, they do so by implementing methods with special names beginning and ending with 2 underscores such as `__lt__`, `__setattr__`, or `__contains__`. Generally, names that follow this double-underscore format have a special meaning to Python.\n",
    "\n",
    "So, for example, the expression `x in [1, 2, 3]` is actually calling the list method `__contains__` behind-the-scenes. It's equivalent to (the much uglier) `[1, 2, 3].__contains__(x)`. \n",
    "\n",
    "If you're curious to learn more, you can check out [Python's official documentation](https://docs.python.org/3.4/reference/datamodel.html#special-method-names), which describes many, many more of these special \"underscores\" methods.\n",
    "\n",
    "We won't be defining our own types in these lessons (if only there was time!), but I hope you'll get to experience the joys of defining your own wonderful, weird types later down the road."
   ]
  }
 ],
 "metadata": {
  "kernelspec": {
   "display_name": "Python 3",
   "language": "python",
   "name": "python3"
  },
  "language_info": {
   "codemirror_mode": {
    "name": "ipython",
    "version": 3
   },
   "file_extension": ".py",
   "mimetype": "text/x-python",
   "name": "python",
   "nbconvert_exporter": "python",
   "pygments_lexer": "ipython3",
   "version": "3.7.3"
  },
  "learntools_metadata": {
   "lesson_index": 6,
   "type": "tutorial"
  },
  "papermill": {
   "default_parameters": {},
   "duration": 17.695781,
   "end_time": "2021-06-04T13:07:17.452283",
   "environment_variables": {},
   "exception": null,
   "input_path": "__notebook__.ipynb",
   "output_path": "__notebook__.ipynb",
   "parameters": {},
   "start_time": "2021-06-04T13:06:59.756502",
   "version": "2.3.2"
  }
 },
 "nbformat": 4,
 "nbformat_minor": 5
}
